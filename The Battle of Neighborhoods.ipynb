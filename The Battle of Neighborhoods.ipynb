{
 "cells": [
  {
   "cell_type": "markdown",
   "metadata": {},
   "source": [
    "#Capstone Project- The Battle of Neighborhoods"
   ]
  },
  {
   "cell_type": "markdown",
   "metadata": {},
   "source": [
    "    ###Introduction"
   ]
  },
  {
   "cell_type": "markdown",
   "metadata": {},
   "source": [
    "Our goal is to find the best location in Thessaloniki, Greece where he can open a vegan restaurant.\n",
    "\n",
    "Veganism is becoming more and more popular nowadays. The reason for these are that more people are becoming health conscious and concerned about ethical eating. \n",
    "There are a lot of non-vegans who love vegan food. Those who genuinely love a healthy lifestyle, for instance. So, a good location to open the restaurant is near yoga and pilates studios.\n",
    "Also we will make sure that we choose a highly visible location and a location not near other vegan restaurants."
   ]
  },
  {
   "cell_type": "markdown",
   "metadata": {},
   "source": [
    "###Data"
   ]
  },
  {
   "cell_type": "markdown",
   "metadata": {},
   "source": [
    "####1.Geographic locations of vegan restaurants of Thessaloniki"
   ]
  },
  {
   "cell_type": "code",
   "execution_count": 1,
   "metadata": {},
   "outputs": [],
   "source": [
    "import pandas as pd\n",
    "import numpy as np"
   ]
  },
  {
   "cell_type": "code",
   "execution_count": 10,
   "metadata": {},
   "outputs": [],
   "source": [
    "import requests\n"
   ]
  },
  {
   "cell_type": "code",
   "execution_count": 2,
   "metadata": {},
   "outputs": [
    {
     "data": {
      "text/plain": [
       "True"
      ]
     },
     "execution_count": 2,
     "metadata": {},
     "output_type": "execute_result"
    }
   ],
   "source": [
    "# import functionality to find and load dotenv credentials\n",
    "# and getenv to get environment variables from OS\n",
    "from os import getenv\n",
    "from dotenv import load_dotenv, find_dotenv\n",
    "\n",
    "# load environment keys, it will automatically find and load .env\n",
    "load_dotenv(find_dotenv())"
   ]
  },
  {
   "cell_type": "code",
   "execution_count": 5,
   "metadata": {},
   "outputs": [],
   "source": [
    "'''\n",
    "def login(api_key, secret):\n",
    "    print('Logged with:')\n",
    "    print('API: ' + api_id)\n",
    "    print('SECRET: ' + secret_id)'''\n",
    "\n",
    "# Logging in to third party app with environment variable credentials\n",
    "api_id = getenv('CLIENT_ID')\n",
    "secret_id = getenv('CLIENT_SECRET')\n",
    "VERSION = '20180605'\n",
    "#login(api_id, secret_id)"
   ]
  },
  {
   "cell_type": "code",
   "execution_count": 6,
   "metadata": {},
   "outputs": [],
   "source": [
    "Thessaloniki=[40.736851, 22.920227]"
   ]
  },
  {
   "cell_type": "code",
   "execution_count": 12,
   "metadata": {},
   "outputs": [],
   "source": [
    "LIMIT = 100 # limit of number of venues returned by Foursquare API\n",
    "radius = 2000 # define radius\n",
    "# create URL\n",
    "url = 'https://api.foursquare.com/v2/venues/explore?&client_id={}&client_secret={}&v={}&ll={},{}&radius={}&limit={}'.format(\n",
    "    api_id, \n",
    "    secret_id, \n",
    "    VERSION, \n",
    "    Thessaloniki[0], \n",
    "    Thessaloniki[1], \n",
    "    radius, \n",
    "    LIMIT)\n",
    "#url # display URL"
   ]
  },
  {
   "cell_type": "code",
   "execution_count": 11,
   "metadata": {},
   "outputs": [
    {
     "data": {
      "text/plain": [
       "{'meta': {'code': 200, 'requestId': '5d6559a04eefd00025b733d4'},\n",
       " 'response': {'warning': {'text': \"There aren't a lot of results near you. Try something more general, reset your filters, or expand the search area.\"},\n",
       "  'headerLocation': 'Oraiókastro',\n",
       "  'headerFullLocation': 'Oraiókastro',\n",
       "  'headerLocationGranularity': 'city',\n",
       "  'totalResults': 3,\n",
       "  'suggestedBounds': {'ne': {'lat': 40.741351004500004,\n",
       "    'lng': 22.926154827546327},\n",
       "   'sw': {'lat': 40.7323509955, 'lng': 22.914299172453674}},\n",
       "  'groups': [{'type': 'Recommended Places',\n",
       "    'name': 'recommended',\n",
       "    'items': [{'reasons': {'count': 0,\n",
       "       'items': [{'summary': 'This spot is popular',\n",
       "         'type': 'general',\n",
       "         'reasonName': 'globalInteractionReason'}]},\n",
       "      'venue': {'id': '4fae4470e4b08885ff37b408',\n",
       "       'name': 'Σχολή Χορού',\n",
       "       'location': {'lat': 40.73544351951442,\n",
       "        'lng': 22.91902034961396,\n",
       "        'labeledLatLngs': [{'label': 'display',\n",
       "          'lat': 40.73544351951442,\n",
       "          'lng': 22.91902034961396}],\n",
       "        'distance': 186,\n",
       "        'postalCode': '570 13',\n",
       "        'cc': 'GR',\n",
       "        'city': 'Ωραιόκαστρο',\n",
       "        'state': 'Θεσσαλονίκη',\n",
       "        'country': 'Ελλάδα',\n",
       "        'formattedAddress': ['570 13 Ωραιόκαστρο, Θεσσαλονίκη', 'Ελλάδα']},\n",
       "       'categories': [{'id': '4bf58dd8d48988d134941735',\n",
       "         'name': 'Dance Studio',\n",
       "         'pluralName': 'Dance Studios',\n",
       "         'shortName': 'Dance Studio',\n",
       "         'icon': {'prefix': 'https://ss3.4sqi.net/img/categories_v2/arts_entertainment/performingarts_dancestudio_',\n",
       "          'suffix': '.png'},\n",
       "         'primary': True}],\n",
       "       'photos': {'count': 0, 'groups': []}},\n",
       "      'referralId': 'e-0-4fae4470e4b08885ff37b408-0'},\n",
       "     {'reasons': {'count': 0,\n",
       "       'items': [{'summary': 'This spot is popular',\n",
       "         'type': 'general',\n",
       "         'reasonName': 'globalInteractionReason'}]},\n",
       "      'venue': {'id': '504fa4ba3d7c8625176ca9a0',\n",
       "       'name': 'Κατάστημα WIND',\n",
       "       'location': {'address': 'Λεωφ. Δημοκρατίας 21',\n",
       "        'lat': 40.73456149456767,\n",
       "        'lng': 22.920474855272445,\n",
       "        'labeledLatLngs': [{'label': 'display',\n",
       "          'lat': 40.73456149456767,\n",
       "          'lng': 22.920474855272445}],\n",
       "        'distance': 255,\n",
       "        'postalCode': '570 13',\n",
       "        'cc': 'GR',\n",
       "        'city': 'Ωραιόκαστρο',\n",
       "        'state': 'Θεσσαλονίκη',\n",
       "        'country': 'Ελλάδα',\n",
       "        'formattedAddress': ['Λεωφ. Δημοκρατίας 21',\n",
       "         '570 13 Ωραιόκαστρο, Θεσσαλονίκη',\n",
       "         'Ελλάδα']},\n",
       "       'categories': [{'id': '4f04afc02fb6e1c99f3db0bc',\n",
       "         'name': 'Mobile Phone Shop',\n",
       "         'pluralName': 'Mobile Phone Shops',\n",
       "         'shortName': 'Mobile Phones',\n",
       "         'icon': {'prefix': 'https://ss3.4sqi.net/img/categories_v2/shops/mobilephoneshop_',\n",
       "          'suffix': '.png'},\n",
       "         'primary': True}],\n",
       "       'photos': {'count': 0, 'groups': []}},\n",
       "      'referralId': 'e-0-504fa4ba3d7c8625176ca9a0-1'},\n",
       "     {'reasons': {'count': 0,\n",
       "       'items': [{'summary': 'This spot is popular',\n",
       "         'type': 'general',\n",
       "         'reasonName': 'globalInteractionReason'}]},\n",
       "      'venue': {'id': '574b1ae2498eb57fdb29e3d5',\n",
       "       'name': 'Spectral',\n",
       "       'location': {'lat': 40.73355,\n",
       "        'lng': 22.9214,\n",
       "        'labeledLatLngs': [{'label': 'display',\n",
       "          'lat': 40.73355,\n",
       "          'lng': 22.9214}],\n",
       "        'distance': 380,\n",
       "        'postalCode': '570 13',\n",
       "        'cc': 'GR',\n",
       "        'city': 'Ωραιοκάστρου',\n",
       "        'state': 'Θεσσαλονίκη',\n",
       "        'country': 'Ελλάδα',\n",
       "        'formattedAddress': ['570 13 Ωραιοκάστρου, Θεσσαλονίκη', 'Ελλάδα']},\n",
       "       'categories': [{'id': '4bf58dd8d48988d1e1931735',\n",
       "         'name': 'Arcade',\n",
       "         'pluralName': 'Arcades',\n",
       "         'shortName': 'Arcade',\n",
       "         'icon': {'prefix': 'https://ss3.4sqi.net/img/categories_v2/arts_entertainment/arcade_',\n",
       "          'suffix': '.png'},\n",
       "         'primary': True}],\n",
       "       'photos': {'count': 0, 'groups': []}},\n",
       "      'referralId': 'e-0-574b1ae2498eb57fdb29e3d5-2'}]}]}}"
      ]
     },
     "execution_count": 11,
     "metadata": {},
     "output_type": "execute_result"
    }
   ],
   "source": [
    "results=requests.get(url).json()\n",
    "results"
   ]
  },
  {
   "cell_type": "code",
   "execution_count": 13,
   "metadata": {},
   "outputs": [],
   "source": [
    "# function that extracts the category of the venue\n",
    "def get_category_type(row):\n",
    "    try:\n",
    "        categories_list = row['categories']\n",
    "    except:\n",
    "        categories_list = row['venue.categories']\n",
    "        \n",
    "    if len(categories_list) == 0:\n",
    "        return None\n",
    "    else:\n",
    "        return categories_list[0]['name']"
   ]
  },
  {
   "cell_type": "code",
   "execution_count": null,
   "metadata": {},
   "outputs": [],
   "source": []
  }
 ],
 "metadata": {
  "kernelspec": {
   "display_name": "Python 3",
   "language": "python",
   "name": "python3"
  },
  "language_info": {
   "codemirror_mode": {
    "name": "ipython",
    "version": 3
   },
   "file_extension": ".py",
   "mimetype": "text/x-python",
   "name": "python",
   "nbconvert_exporter": "python",
   "pygments_lexer": "ipython3",
   "version": "3.7.3"
  }
 },
 "nbformat": 4,
 "nbformat_minor": 2
}
